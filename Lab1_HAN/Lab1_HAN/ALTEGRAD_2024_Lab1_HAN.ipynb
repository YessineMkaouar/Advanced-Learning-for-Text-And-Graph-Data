{
  "cells": [
    {
      "cell_type": "markdown",
      "metadata": {
        "id": "MuVouapRmjEW"
      },
      "source": [
        "<center><h2>ALTeGraD 2024<br>Lab Session 1: HAN</h2><h3>Hierarchical Attention Network Using GRU</h3> 8 / 10 / 2024<br> Dr. Guokan Shang, Yang Zhang<br><br>\n",
        "\n",
        "\n",
        "<b>Student name:</b> Yassine MKAOUAR\n",
        "\n",
        "\n",
        "</center>\n",
        "In this lab, you will get familiar with recurrent neural networks (RNNs), self-attention, and the HAN architecture <b>(Yang et al. 2016)</b> using PyTorch. In this architecture, sentence embeddings are first individually produced, and a document embedding is then computed from the sentence embeddings.<br>\n",
        "<b>The deadline for this lab is October 15, 2024 11:59 PM.</b> More details about the submission and the architecture for this lab can be found in the handout PDF.\n"
      ]
    },
    {
      "cell_type": "markdown",
      "metadata": {
        "id": "xJaSJaIP1xRy"
      },
      "source": [
        "### = = = = =  Attention Layer = = = = =\n",
        "In this section, you will fill the gaps in the code to implement the self-attention layer. This layer will be used later to define the HAN architecture. The basic idea behind attention is that rather than considering the last annotation $h_T$ as a summary of the entire sequence, which is prone to information loss, the annotations at <i>all</i> time steps are used.\n",
        "The self-attention mechanism computes a weighted sum of the annotations, where the weights are determined by trainable parameters. Refer to <b>section 2.2</b> in the handout for the theoretical part, it will be needed to finish the first task.\n",
        "\n",
        "#### <b>Task 1:</b>"
      ]
    },
    {
      "cell_type": "code",
      "execution_count": 5,
      "metadata": {
        "id": "yoM7H0KQncpF"
      },
      "outputs": [],
      "source": [
        "import torch\n",
        "from torch import nn\n",
        "from torch.utils.data import DataLoader\n",
        "\n",
        "class AttentionWithContext(nn.Module):\n",
        "    \"\"\"\n",
        "    Follows the work of Yang et al. [https://www.cs.cmu.edu/~diyiy/docs/naacl16.pdf]\n",
        "    \"Hierarchical Attention Networks for Document Classification\"\n",
        "    by using a context vector to assist the attention\n",
        "    # Input shape\n",
        "        3D tensor with shape: `(samples, steps, features)`.\n",
        "    # Output shape\n",
        "        2D tensor with shape: `(samples, features)`.\n",
        "    \"\"\"\n",
        "    \n",
        "    def __init__(self, input_shape, return_coefficients=False, bias=True):\n",
        "        super(AttentionWithContext, self).__init__()\n",
        "        self.return_coefficients = return_coefficients\n",
        "\n",
        "        self.W = nn.Linear(input_shape, input_shape, bias=bias)\n",
        "        self.tanh = nn.Tanh()\n",
        "        self.u = nn.Linear(input_shape, 1, bias=False)\n",
        "\n",
        "        self.init_weights()\n",
        "\n",
        "    def init_weights(self):\n",
        "        initrange = 0.1\n",
        "        self.W.weight.data.uniform_(-initrange, initrange)\n",
        "        self.W.bias.data.uniform_(-initrange, initrange)\n",
        "        self.u.weight.data.uniform_(-initrange, initrange)\n",
        "    \n",
        "    def generate_square_subsequent_mask(self, sz):\n",
        "        # do not pass the mask to the next layers\n",
        "        mask = (torch.triu(torch.ones(sz, sz)) == 1).transpose(0, 1)\n",
        "        mask = (\n",
        "            mask.float()\n",
        "            .masked_fill(mask == 0, float(\"-inf\"))\n",
        "            .masked_fill(mask == 1, float(0.0))\n",
        "        )\n",
        "        return mask\n",
        "    \n",
        "    def forward(self, x, mask=None):\n",
        "        uit = self.W(x) # fill the gap # compute uit = W . x  where x represents ht\n",
        "        uit = self.tanh(uit)\n",
        "        ait = self.u(uit)\n",
        "        a = torch.exp(ait)\n",
        "        \n",
        "        # apply mask after the exp. will be re-normalized next\n",
        "        if mask is not None:\n",
        "            a = a*mask.double()\n",
        "        \n",
        "        # in some cases especially in the early stages of training the sum may be almost zero\n",
        "        # and this results in NaN's. A workaround is to add a very small positive number ε to the sum.\n",
        "        eps = 1e-9\n",
        "        a = a / (torch.sum(a, axis=1, keepdim=True) + eps)\n",
        "        weighted_input = torch.sum(a * x, dim=1) ### fill the gap ### # compute the attentional vector\n",
        "        if self.return_coefficients:\n",
        "            return  weighted_input, a ### [attentional vector, coefficients] ### use torch.sum to compute s\n",
        "        else:\n",
        "            return  weighted_input  ### attentional vector only ###"
      ]
    },
    {
      "cell_type": "markdown",
      "metadata": {
        "id": "DgTP6GrOHlss"
      },
      "source": [
        "### = = = = = Parameters = = = = =\n",
        "In this section, we define the parameters to use in our training. Such as data path, the embedding dimention <b>d</b>, the GRU layer dimensionality <b>n_units</b>, etc..<br>\n",
        "The parameter <b>device</b> is used to train the model on GPU if it is available. for this purpose, if you are using Google Colab, switch your runtime to a GPU runtime to train the model with a maximum speed.<br>\n",
        "<b>Bonus question:</b> What is the purpose of the parameter <i>my_patience</i>?"
      ]
    },
    {
      "cell_type": "code",
      "execution_count": 6,
      "metadata": {
        "id": "czsVjxgYnczb"
      },
      "outputs": [],
      "source": [
        "import sys\n",
        "import json\n",
        "import operator\n",
        "import numpy as np\n",
        "\n",
        "path_root = ''\n",
        "path_to_data = path_root + 'data/'\n",
        "\n",
        "d = 30 # dimensionality of word embeddings\n",
        "n_units = 50 # RNN layer dimensionality\n",
        "drop_rate = 0.5 # dropout\n",
        "mfw_idx = 2 # index of the most frequent words in the dictionary \n",
        "            # 0 is for the special padding token\n",
        "            # 1 is for the special out-of-vocabulary token\n",
        "\n",
        "padding_idx = 0\n",
        "oov_idx = 1\n",
        "batch_size = 64\n",
        "nb_epochs = 15\n",
        "my_patience = 2 # for early stopping strategy\n",
        "device = torch.device(\"cuda\" if torch.cuda.is_available() else \"cpu\")"
      ]
    },
    {
      "cell_type": "markdown",
      "metadata": {
        "id": "K8Vot_C7Hlst"
      },
      "source": [
        "### = = = = = Data Loading = = = = =\n",
        "In this section we will use first <b>wget</b> to download the data the we will load it using numpy in the first cell. While in the second cell, we will use these data to define our Pytorch data loader. Note that the data is already preprocessed, tokenized and padded.<br><br>\n",
        "<b>Note: if you are running your notebook on Windows or on MacOS, <i>wget</i> will probably not work if you did not install it manually. In this case, use the provided link to download the data and change the <i>path_to_data</i> in the <i>Parameters</i> section accordingly. Otherwise, you will face no problem on Ubuntu and Google Colab.</b>\n",
        "\n",
        "#### <b>Task 2.1:</b>"
      ]
    },
    {
      "cell_type": "code",
      "execution_count": 7,
      "metadata": {
        "id": "UD6hRh0OHlst"
      },
      "outputs": [
        {
          "name": "stdout",
          "output_type": "stream",
          "text": [
            "Archive:  data.zip\n",
            "   creating: data/                 \n",
            "  inflating: __MACOSX/._data         \n",
            "  inflating: data/labels_train.npy   \n",
            "  inflating: __MACOSX/data/._labels_train.npy  \n",
            "  inflating: data/docs_test.npy      \n",
            "  inflating: __MACOSX/data/._docs_test.npy  \n",
            "  inflating: data/labels_test.npy    \n",
            "  inflating: __MACOSX/data/._labels_test.npy  \n",
            "  inflating: data/word_to_index.json  \n",
            "  inflating: __MACOSX/data/._word_to_index.json  \n",
            "  inflating: data/docs_train.npy     \n",
            "  inflating: __MACOSX/data/._docs_train.npy  \n"
          ]
        }
      ],
      "source": [
        "import urllib.request\n",
        "url = \"https://onedrive.live.com/download?cid=AE69638675180117&resid=AE69638675180117%2199289&authkey=AHgxt3xmgG0Fu5A\"\n",
        "output_file = \"data.zip\"\n",
        "urllib.request.urlretrieve(url, output_file)\n",
        "\n",
        "!unzip data.zip\n",
        "\n",
        "my_docs_array_train = np.load(path_to_data + 'docs_train.npy')\n",
        "my_docs_array_test = np.load(path_to_data + 'docs_test.npy')\n",
        "\n",
        "my_labels_array_train = np.load(path_to_data + 'labels_train.npy')\n",
        "my_labels_array_test = np.load(path_to_data + 'labels_test.npy')\n",
        "\n",
        "# load dictionary of word indexes (sorted by decreasing frequency across the corpus)\n",
        "with open(path_to_data + 'word_to_index.json', 'r') as my_file:\n",
        "    word_to_index = json.load(my_file)\n",
        "\n",
        "# invert mapping\n",
        "index_to_word =  {v: k for k, v in word_to_index.items()} ### fill the gap (use a dict comprehension) ###\n",
        "input_size = my_docs_array_train.shape"
      ]
    },
    {
      "cell_type": "code",
      "execution_count": 16,
      "metadata": {
        "id": "DpsCvmaiJfZc"
      },
      "outputs": [],
      "source": [
        "import numpy\n",
        "import torch\n",
        "from torch.utils.data import DataLoader, Dataset\n",
        "\n",
        "\n",
        "class Dataset_(Dataset):\n",
        "    def __init__(self, x, y):\n",
        "        self.documents = x\n",
        "        self.labels = y\n",
        "\n",
        "    def __len__(self):\n",
        "        return len(self.documents)\n",
        "\n",
        "    def __getitem__(self, index):\n",
        "        document = self.documents[index]\n",
        "        label = self.labels[index] \n",
        "        sample = {\n",
        "            \"document\": torch.tensor(document, dtype=torch.long),\n",
        "            \"label\": torch.tensor(label,  dtype=torch.float32),\n",
        "            }\n",
        "        return sample\n",
        "\n",
        "\n",
        "def get_loader(x, y, batch_size=32):\n",
        "    dataset = Dataset_(x, y)\n",
        "    data_loader = DataLoader(dataset=dataset,\n",
        "                            batch_size=batch_size,\n",
        "                            shuffle=True,\n",
        "                            pin_memory=True,\n",
        "                            drop_last=True,\n",
        "                            )\n",
        "    return data_loader"
      ]
    },
    {
      "cell_type": "markdown",
      "metadata": {
        "id": "6rzqEGOdHlst"
      },
      "source": [
        "### = = = = = Defining Architecture = = = = =\n",
        "In this section, we define the HAN architecture. We start with <i>AttentionBiGRU</i> module in order to define the sentence encoder (check Figure 3 in the handout). Then, we define the <i>TimeDistributed</i> module to allow us to forward our input (batch of document) as to the sentence encoder as <b>batch of sentences</b>, where each sentence in the document will be considered as a time step. This module also reshape the output to a batch of timesteps representations per document. Finally we define the <b>HAN</b> architecture using <i>TimeDistributed</i>, <i>AttentionWithContext</i> and <i>GRU</i>.\n",
        "\n",
        "#### <b>Task 2.2:</b>"
      ]
    },
    {
      "cell_type": "code",
      "execution_count": 17,
      "metadata": {
        "id": "AMj9j1_pHlst"
      },
      "outputs": [],
      "source": [
        "\n",
        "class AttentionBiGRU(nn.Module):\n",
        "    def __init__(self, input_shape, n_units, index_to_word, dropout=0):\n",
        "        super(AttentionBiGRU, self).__init__()\n",
        "        self.embedding = nn.Embedding(len(index_to_word)+2,# fill the gap # vocab size\n",
        "                                      d, # dimensionality of embedding space\n",
        "                                      padding_idx=0)\n",
        "        self.dropout = nn.Dropout(drop_rate)\n",
        "        self.gru = nn.GRU(input_size=d,\n",
        "                          hidden_size=n_units,\n",
        "                          num_layers=1,\n",
        "                          bias=True,\n",
        "                          batch_first=True,\n",
        "                          bidirectional=True)\n",
        "        self.attention = AttentionWithContext(2 * n_units,   # fill the gap # the input shape for the attention layer\n",
        "                                              return_coefficients=True)\n",
        "\n",
        "\n",
        "    def forward(self, sent_ints):\n",
        "        sent_wv = self.embedding(sent_ints)\n",
        "        sent_wv_dr = self.dropout(sent_wv)\n",
        "        sent_wa, _ = self.gru(sent_wv_dr) # fill the gap # RNN layer\n",
        "        sent_att_vec, word_att_coeffs = self.attention(sent_wa) # fill the gap # attentional vector for the sent\n",
        "        sent_att_vec_dr = self.dropout(sent_att_vec)\n",
        "        return sent_att_vec_dr, word_att_coeffs\n",
        "\n",
        "class TimeDistributed(nn.Module):\n",
        "    def __init__(self, module, batch_first=False):\n",
        "        super(TimeDistributed, self).__init__()\n",
        "        self.module = module\n",
        "        self.batch_first = batch_first\n",
        "\n",
        "    def forward(self, x):\n",
        "        if len(x.size()) <= 2:\n",
        "            return self.module(x)\n",
        "        # Squash samples and timesteps into a single axis\n",
        "        x_reshape = x.contiguous().view(-1, x.size(-1))  # (samples * timesteps, input_size) (448, 30)\n",
        "        sent_att_vec_dr, word_att_coeffs = self.module(x_reshape)\n",
        "        # We have to reshape the output\n",
        "        if self.batch_first:\n",
        "            sent_att_vec_dr = sent_att_vec_dr.contiguous().view(x.size(0), -1, sent_att_vec_dr.size(-1))  # (samples, timesteps, output_size)\n",
        "            word_att_coeffs = word_att_coeffs.contiguous().view(x.size(0), -1, word_att_coeffs.size(-1))  # (samples, timesteps, output_size)\n",
        "        else:\n",
        "            sent_att_vec_dr = sent_att_vec_dr.view(-1, x.size(1), sent_att_vec_dr.size(-1))  # (timesteps, samples, output_size)\n",
        "            word_att_coeffs = word_att_coeffs.view(-1, x.size(1), word_att_coeffs.size(-1))  # (timesteps, samples, output_size)\n",
        "        return sent_att_vec_dr, word_att_coeffs\n",
        "\n",
        "class HAN(nn.Module):\n",
        "    def __init__(self, input_shape, n_units, index_to_word, dropout=0):\n",
        "        super(HAN, self).__init__()\n",
        "        self.encoder = AttentionBiGRU(input_shape, n_units, index_to_word, dropout)\n",
        "        self.timeDistributed = TimeDistributed(self.encoder, True)\n",
        "        self.dropout = nn.Dropout(drop_rate)\n",
        "        self.gru = nn.GRU(input_size=n_units * 2,# fill the gap # the input shape of GRU layer\n",
        "                          hidden_size=n_units,\n",
        "                          num_layers=1,\n",
        "                          bias=True,\n",
        "                          batch_first=True,\n",
        "                          bidirectional=True)\n",
        "        self.attention = AttentionWithContext(n_units * 2, # fill the gap # the input shape of between-sentence attention layer\n",
        "                                              return_coefficients=True)\n",
        "        self.lin_out = nn.Linear(n_units * 2,   # fill the gap # the input size of the last linear layer\n",
        "                                 1)\n",
        "        self.preds = nn.Sigmoid()\n",
        "\n",
        "    def forward(self, doc_ints):\n",
        "        sent_att_vecs_dr, word_att_coeffs =  self.timeDistributed(doc_ints) # fill the gap # get sentence representation\n",
        "        doc_sa, _ = self.gru(sent_att_vecs_dr)\n",
        "        doc_att_vec, sent_att_coeffs = self.attention(doc_sa)\n",
        "        doc_att_vec_dr = self.dropout(doc_att_vec)\n",
        "        doc_att_vec_dr = self.lin_out(doc_att_vec_dr)\n",
        "        return self.preds(doc_att_vec_dr), word_att_coeffs, sent_att_coeffs\n"
      ]
    },
    {
      "cell_type": "markdown",
      "metadata": {
        "id": "sgreR5AcHlst"
      },
      "source": [
        "### = = = = = Training = = = = =\n",
        "In this section, we have two code cells. In the first one, we define our evaluation function to compute the training and validation accuracies. While in the second one, we define our model, loss and optimizer and train the model over <i>nb_epochs</i>.<br>\n",
        "<b>Bonus task:</b> use <a href=\"https://pytorch.org/tutorials/recipes/recipes/tensorboard_with_pytorch.html\" target=\"_blank\">tensorboard</a> to visualize the loss and the validation accuray during the training.\n",
        "\n",
        "#### <b>Task 2.3:</b>"
      ]
    },
    {
      "cell_type": "code",
      "execution_count": 18,
      "metadata": {
        "id": "ztF2Lkie-C25"
      },
      "outputs": [],
      "source": [
        "def evaluate_accuracy(data_loader, verbose=True):\n",
        "    model.eval()\n",
        "    total_loss = 0.0\n",
        "    ncorrect = ntotal = 0\n",
        "    with torch.no_grad():\n",
        "        for idx, data in enumerate(data_loader):\n",
        "            # inference \n",
        "            output = model(data[\"document\"].to(device))[0] \n",
        "            output = output[:, -1] # only last vector\n",
        "            # total number of examples\n",
        "            ntotal +=  output.shape[0]\n",
        "            # number of correct predictions \n",
        "            predictions = torch.round(output)\n",
        "            ncorrect += torch.sum(predictions == data[\"label\"].to(device))  #fill me # number of correct prediction - hint: use torch.sum \n",
        "        acc = ncorrect.item() / ntotal\n",
        "        if verbose:\n",
        "          print(\"validation accuracy: {:3.2f}\".format(acc*100))\n",
        "        return acc"
      ]
    },
    {
      "cell_type": "code",
      "execution_count": 19,
      "metadata": {
        "id": "RRYiKhZEEidb"
      },
      "outputs": [
        {
          "name": "stderr",
          "output_type": "stream",
          "text": [
            "Epoch 1: 100%|██████████| 390/390 [01:20<00:00,  4.83batch/s, accuracy=59.8, loss=0.657]\n"
          ]
        },
        {
          "name": "stdout",
          "output_type": "stream",
          "text": [
            "===> Epoch 1 Complete: Avg. Loss: 0.6568, Validation Accuracy: 71.07%\n",
            "Validation accuracy improved, saving model...\n",
            "\n"
          ]
        },
        {
          "name": "stderr",
          "output_type": "stream",
          "text": [
            "Epoch 2: 100%|██████████| 390/390 [01:18<00:00,  4.98batch/s, accuracy=70.8, loss=0.565]\n"
          ]
        },
        {
          "name": "stdout",
          "output_type": "stream",
          "text": [
            "===> Epoch 2 Complete: Avg. Loss: 0.5649, Validation Accuracy: 75.20%\n",
            "Validation accuracy improved, saving model...\n",
            "\n"
          ]
        },
        {
          "name": "stderr",
          "output_type": "stream",
          "text": [
            "Epoch 3: 100%|██████████| 390/390 [01:15<00:00,  5.16batch/s, accuracy=74.8, loss=0.511]\n"
          ]
        },
        {
          "name": "stdout",
          "output_type": "stream",
          "text": [
            "===> Epoch 3 Complete: Avg. Loss: 0.5111, Validation Accuracy: 78.99%\n",
            "Validation accuracy improved, saving model...\n",
            "\n"
          ]
        },
        {
          "name": "stderr",
          "output_type": "stream",
          "text": [
            "Epoch 4: 100%|██████████| 390/390 [01:15<00:00,  5.16batch/s, accuracy=78.3, loss=0.462]\n"
          ]
        },
        {
          "name": "stdout",
          "output_type": "stream",
          "text": [
            "===> Epoch 4 Complete: Avg. Loss: 0.4617, Validation Accuracy: 80.04%\n",
            "Validation accuracy improved, saving model...\n",
            "\n"
          ]
        },
        {
          "name": "stderr",
          "output_type": "stream",
          "text": [
            "Epoch 5: 100%|██████████| 390/390 [01:15<00:00,  5.17batch/s, accuracy=80.2, loss=0.429]\n"
          ]
        },
        {
          "name": "stdout",
          "output_type": "stream",
          "text": [
            "===> Epoch 5 Complete: Avg. Loss: 0.4290, Validation Accuracy: 82.02%\n",
            "Validation accuracy improved, saving model...\n",
            "\n"
          ]
        },
        {
          "name": "stderr",
          "output_type": "stream",
          "text": [
            "Epoch 6: 100%|██████████| 390/390 [01:19<00:00,  4.89batch/s, accuracy=81.6, loss=0.407]\n"
          ]
        },
        {
          "name": "stdout",
          "output_type": "stream",
          "text": [
            "===> Epoch 6 Complete: Avg. Loss: 0.4067, Validation Accuracy: 82.79%\n",
            "Validation accuracy improved, saving model...\n",
            "\n"
          ]
        },
        {
          "name": "stderr",
          "output_type": "stream",
          "text": [
            "Epoch 7: 100%|██████████| 390/390 [01:18<00:00,  4.98batch/s, accuracy=83, loss=0.383]  \n"
          ]
        },
        {
          "name": "stdout",
          "output_type": "stream",
          "text": [
            "===> Epoch 7 Complete: Avg. Loss: 0.3832, Validation Accuracy: 82.02%\n"
          ]
        },
        {
          "name": "stderr",
          "output_type": "stream",
          "text": [
            "Epoch 8: 100%|██████████| 390/390 [01:18<00:00,  4.97batch/s, accuracy=84.3, loss=0.359]\n"
          ]
        },
        {
          "name": "stdout",
          "output_type": "stream",
          "text": [
            "===> Epoch 8 Complete: Avg. Loss: 0.3595, Validation Accuracy: 83.48%\n",
            "Validation accuracy improved, saving model...\n",
            "\n"
          ]
        },
        {
          "name": "stderr",
          "output_type": "stream",
          "text": [
            "Epoch 9: 100%|██████████| 390/390 [01:17<00:00,  5.04batch/s, accuracy=85, loss=0.346]  \n"
          ]
        },
        {
          "name": "stdout",
          "output_type": "stream",
          "text": [
            "===> Epoch 9 Complete: Avg. Loss: 0.3463, Validation Accuracy: 84.32%\n",
            "Validation accuracy improved, saving model...\n",
            "\n"
          ]
        },
        {
          "name": "stderr",
          "output_type": "stream",
          "text": [
            "Epoch 10: 100%|██████████| 390/390 [01:21<00:00,  4.76batch/s, accuracy=85.5, loss=0.333]\n"
          ]
        },
        {
          "name": "stdout",
          "output_type": "stream",
          "text": [
            "===> Epoch 10 Complete: Avg. Loss: 0.3328, Validation Accuracy: 84.33%\n",
            "Validation accuracy improved, saving model...\n",
            "\n"
          ]
        },
        {
          "name": "stderr",
          "output_type": "stream",
          "text": [
            "Epoch 11: 100%|██████████| 390/390 [01:20<00:00,  4.83batch/s, accuracy=86.7, loss=0.313]\n"
          ]
        },
        {
          "name": "stdout",
          "output_type": "stream",
          "text": [
            "===> Epoch 11 Complete: Avg. Loss: 0.3125, Validation Accuracy: 83.69%\n"
          ]
        },
        {
          "name": "stderr",
          "output_type": "stream",
          "text": [
            "Epoch 12: 100%|██████████| 390/390 [01:20<00:00,  4.87batch/s, accuracy=87, loss=0.304]  \n"
          ]
        },
        {
          "name": "stdout",
          "output_type": "stream",
          "text": [
            "===> Epoch 12 Complete: Avg. Loss: 0.3043, Validation Accuracy: 84.80%\n",
            "Validation accuracy improved, saving model...\n",
            "\n"
          ]
        },
        {
          "name": "stderr",
          "output_type": "stream",
          "text": [
            "Epoch 13: 100%|██████████| 390/390 [01:18<00:00,  4.97batch/s, accuracy=87.6, loss=0.294]\n"
          ]
        },
        {
          "name": "stdout",
          "output_type": "stream",
          "text": [
            "===> Epoch 13 Complete: Avg. Loss: 0.2935, Validation Accuracy: 84.76%\n"
          ]
        },
        {
          "name": "stderr",
          "output_type": "stream",
          "text": [
            "Epoch 14: 100%|██████████| 390/390 [01:20<00:00,  4.86batch/s, accuracy=88, loss=0.286]  \n"
          ]
        },
        {
          "name": "stdout",
          "output_type": "stream",
          "text": [
            "===> Epoch 14 Complete: Avg. Loss: 0.2862, Validation Accuracy: 84.65%\n",
            "Validation accuracy did not improve for 2 epochs, stopping training...\n"
          ]
        },
        {
          "name": "stderr",
          "output_type": "stream",
          "text": [
            "Epoch 15: 100%|██████████| 390/390 [01:22<00:00,  4.70batch/s, accuracy=88.7, loss=0.274]\n"
          ]
        },
        {
          "name": "stdout",
          "output_type": "stream",
          "text": [
            "===> Epoch 15 Complete: Avg. Loss: 0.2745, Validation Accuracy: 83.61%\n",
            "Loading best checkpoint...\n",
            "done.\n"
          ]
        }
      ],
      "source": [
        "from tqdm import tqdm\n",
        "\n",
        "model = HAN(input_size, n_units, index_to_word).to(device)\n",
        "model = model.double()\n",
        "lr = 0.001  # learning rate\n",
        "criterion = torch.nn.BCELoss() # fill the gap, use Binary cross entropy from torch.nn: https://pytorch.org/docs/stable/nn.html#loss-functions\n",
        "optimizer = torch.optim.Adam(model.parameters(), lr=lr) #fill me\n",
        "\n",
        "def train(x_train=my_docs_array_train,\n",
        "          y_train=my_labels_array_train,\n",
        "          x_test=my_docs_array_test,\n",
        "          y_test=my_labels_array_test,\n",
        "          word_dict=index_to_word,\n",
        "          batch_size=batch_size):\n",
        "  \n",
        "    train_data = get_loader(x_train, y_train, batch_size)\n",
        "    test_data = get_loader(my_docs_array_test, my_labels_array_test, batch_size)\n",
        "\n",
        "    best_validation_acc = 0.0\n",
        "    p = 0 # patience\n",
        "\n",
        "    for epoch in range(1, nb_epochs + 1): \n",
        "        losses = []\n",
        "        accuracies = []\n",
        "        with tqdm(train_data, unit=\"batch\") as tepoch:\n",
        "            for idx, data in enumerate(tepoch):\n",
        "                tepoch.set_description(f\"Epoch {epoch}\")\n",
        "                model.train()\n",
        "                optimizer.zero_grad()\n",
        "                input = data['document'].to(device)\n",
        "                label = data['label'].to(device)\n",
        "                label = label.double()\n",
        "                output = model.forward(input)[0]\n",
        "                output = output[:, -1]\n",
        "                loss = criterion(output, label) # fill the gap # compute the loss\n",
        "                loss.backward()\n",
        "                torch.nn.utils.clip_grad_norm_(model.parameters(), 0.5) # prevent exploding gradient \n",
        "                optimizer.step()\n",
        "\n",
        "                losses.append(loss.item())\n",
        "                accuracy = torch.sum(torch.round(output) == label).item() / batch_size\n",
        "                accuracies.append(accuracy)\n",
        "                tepoch.set_postfix(loss=sum(losses)/len(losses), accuracy=100. * sum(accuracies)/len(accuracies))\n",
        "\n",
        "        # train_acc = evaluate_accuracy(train_data, False)\n",
        "        test_acc = evaluate_accuracy(test_data, False)\n",
        "        print(\"===> Epoch {} Complete: Avg. Loss: {:.4f}, Validation Accuracy: {:3.2f}%\"\n",
        "              .format(epoch, sum(losses)/len(losses), 100.*test_acc))\n",
        "        if test_acc >= best_validation_acc:\n",
        "            best_validation_acc = test_acc\n",
        "            print(\"Validation accuracy improved, saving model...\")\n",
        "            torch.save(model.state_dict(), './best_model.pt')\n",
        "            p = 0\n",
        "            print()\n",
        "        else:\n",
        "            p += 1\n",
        "            if p==my_patience:\n",
        "                print(\"Validation accuracy did not improve for {} epochs, stopping training...\".format(my_patience))\n",
        "    print(\"Loading best checkpoint...\")    \n",
        "    model.load_state_dict(torch.load('./best_model.pt'))\n",
        "    model.eval()\n",
        "    print('done.')\n",
        "\n",
        "train()"
      ]
    },
    {
      "cell_type": "markdown",
      "metadata": {
        "id": "Dvyr8B5QHlst"
      },
      "source": [
        "### = = = = = Extraction of Attention Coefficients = = = = =\n",
        "In this section, we will extract and display the attention coefficients on two levels: sentence level and word level. To do so, we will extract the corresponding weights from our model.\n",
        "#### <b>Task 3:</b>"
      ]
    },
    {
      "cell_type": "code",
      "execution_count": 48,
      "metadata": {
        "id": "UVr8cS4MHlst"
      },
      "outputs": [],
      "source": [
        "# select last review:\n",
        "my_review = my_docs_array_test[-1:,:,:]\n",
        " \n",
        "# convert integer review to text:\n",
        "index_to_word[1] = 'OOV'\n",
        "my_review_text = [[index_to_word[idx] for idx in sent if idx in index_to_word] for sent in my_review.tolist()[0]]"
      ]
    },
    {
      "cell_type": "markdown",
      "metadata": {
        "id": "wHDJ7JiqHlsu"
      },
      "source": [
        "###   &emsp;&emsp;  = = = = = Attention Over Sentences in the Document = = = = ="
      ]
    },
    {
      "cell_type": "code",
      "execution_count": 49,
      "metadata": {
        "colab": {
          "base_uri": "https://localhost:8080/"
        },
        "id": "yooWg3kkHlsu",
        "outputId": "2421291a-c557-46a9-8f75-74c998053f74"
      },
      "outputs": [
        {
          "name": "stdout",
          "output_type": "stream",
          "text": [
            "11.74 There 's a sign on The Lost Highway that says : OOV SPOILERS OOV ( but you already knew that , did n't you ? )\n",
            "11.04 Since there 's a great deal of people that apparently did not get the point of this movie , I 'd like to contribute my interpretation of why the plot\n",
            "10.97 As others have pointed out , one single viewing of this movie is not sufficient .\n",
            "13.86 If you have the DVD of MD , you can OOV ' by looking at David Lynch 's 'Top 10 OOV to OOV MD ' ( but only upon second\n",
            "14.99 ; ) First of all , Mulholland Drive is downright brilliant .\n",
            "18.89 A masterpiece .\n",
            "18.5 This is the kind of movie that refuse to leave your head .\n"
          ]
        }
      ],
      "source": [
        "# Convert the review to a torch tensor and pass it through the model\n",
        "my_review_tensor = torch.tensor(my_review, dtype=torch.long).to(device)\n",
        "\n",
        "with torch.no_grad():\n",
        "    _, _, sent_coeffs = model(my_review_tensor) # fill the gap # get sentence attention coeffs by passing the review to the model - (you need to convert the inout torch tensor)\n",
        "sent_coeffs = sent_coeffs[0,:,:]\n",
        "\n",
        "for elt in zip(sent_coeffs[:,0].tolist(),[' '.join(elt) for elt in my_review_text]):\n",
        "    print(round(elt[0]*100,2),elt[1])"
      ]
    },
    {
      "cell_type": "markdown",
      "metadata": {
        "id": "rII-DNrKHlsu"
      },
      "source": [
        "### &emsp;&emsp; = = = = = Attention Over Words in Each Sentence = = = = ="
      ]
    },
    {
      "cell_type": "code",
      "execution_count": 50,
      "metadata": {
        "colab": {
          "base_uri": "https://localhost:8080/"
        },
        "id": "JyFjAga6Hlsu",
        "outputId": "d9640e73-a3a1-4745-b215-d55470036a3c"
      },
      "outputs": [
        {
          "name": "stdout",
          "output_type": "stream",
          "text": [
            "('There', 0.04639659355350277)\n",
            "(\"'s\", 0.026379010509545605)\n",
            "('a', 0.024483692021626823)\n",
            "('sign', 0.0569164054513823)\n",
            "('on', 0.034179010205441354)\n",
            "('The', 0.037298886822673814)\n",
            "('Lost', 0.061837694078922305)\n",
            "('Highway', 0.07579129302607625)\n",
            "('that', 0.023099268404780306)\n",
            "('says', 0.03542226496390039)\n",
            "(':', 0.04238595890791367)\n",
            "('OOV', 0.022269196950804235)\n",
            "('SPOILERS', 0.022332298805883707)\n",
            "('OOV', 0.01957562531381369)\n",
            "('(', 0.017571025785610286)\n",
            "('but', 0.03020927494235406)\n",
            "('you', 0.057911582338237184)\n",
            "('already', 0.05691951112531536)\n",
            "('knew', 0.04068181220478346)\n",
            "('that', 0.0214735821548947)\n",
            "(',', 0.020421295540045296)\n",
            "('did', 0.019430402638362147)\n",
            "(\"n't\", 0.022123093944858743)\n",
            "('you', 0.040513446017215994)\n",
            "('?', 0.02272751114308613)\n",
            "(')', 0.022692958163960813)\n",
            "= = = =\n",
            "('Since', 0.052564913431073924)\n",
            "('there', 0.031086634379880698)\n",
            "(\"'s\", 0.027865577344791545)\n",
            "('a', 0.03054205624728576)\n",
            "('great', 0.10842920644762079)\n",
            "('deal', 0.043757365885625094)\n",
            "('of', 0.022523387407750273)\n",
            "('people', 0.021413864522569465)\n",
            "('that', 0.014750599200495729)\n",
            "('apparently', 0.024586769026358986)\n",
            "('did', 0.016673378332256565)\n",
            "('not', 0.016787502607213862)\n",
            "('get', 0.02354702036896972)\n",
            "('the', 0.013954956839275397)\n",
            "('point', 0.03450269477159066)\n",
            "('of', 0.017746198998052964)\n",
            "('this', 0.02493876615656609)\n",
            "('movie', 0.03413472864424657)\n",
            "(',', 0.02357569426352381)\n",
            "('I', 0.024881096627881797)\n",
            "(\"'d\", 0.04965789944957526)\n",
            "('like', 0.0826818810914749)\n",
            "('to', 0.043054722519610414)\n",
            "('contribute', 0.054834984796779375)\n",
            "('my', 0.042401187206416176)\n",
            "('interpretation', 0.03403798227710494)\n",
            "('of', 0.021039874332777236)\n",
            "('why', 0.019630315899355228)\n",
            "('the', 0.01695011162464745)\n",
            "('plot', 0.02744862922815877)\n",
            "= = = =\n",
            "('As', 0.058701108507188994)\n",
            "('others', 0.050034522956333496)\n",
            "('have', 0.03259986651098887)\n",
            "('pointed', 0.06238977208203404)\n",
            "('out', 0.03354961969928136)\n",
            "(',', 0.021967413814178213)\n",
            "('one', 0.024045865178744675)\n",
            "('single', 0.032733961205953635)\n",
            "('viewing', 0.03231645071507563)\n",
            "('of', 0.021364062609655107)\n",
            "('this', 0.03044713546383089)\n",
            "('movie', 0.04095645296207001)\n",
            "('is', 0.03863541285090896)\n",
            "('not', 0.08989382490238969)\n",
            "('sufficient', 0.07405816337323111)\n",
            "('.', 0.034706223724422856)\n",
            "= = = =\n",
            "('If', 0.048740833552709445)\n",
            "('you', 0.07580982946571674)\n",
            "('have', 0.046924045755854134)\n",
            "('the', 0.033618943764316886)\n",
            "('DVD', 0.036546977609376995)\n",
            "('of', 0.029151703358018536)\n",
            "('MD', 0.03026793918534031)\n",
            "(',', 0.02536444118514977)\n",
            "('you', 0.028254034576181575)\n",
            "('can', 0.02315656859170137)\n",
            "('OOV', 0.02060875966485254)\n",
            "(\"'\", 0.020727631061988105)\n",
            "('by', 0.027561079803710302)\n",
            "('looking', 0.07365683941789851)\n",
            "('at', 0.024300286679786523)\n",
            "('David', 0.026515951599769102)\n",
            "('Lynch', 0.025519822269045887)\n",
            "(\"'s\", 0.023837328085296892)\n",
            "(\"'Top\", 0.03992878486689523)\n",
            "('10', 0.03361012012053129)\n",
            "('OOV', 0.02608159958432512)\n",
            "('to', 0.029166844960759053)\n",
            "('OOV', 0.022238591427130205)\n",
            "('MD', 0.02158165201548931)\n",
            "(\"'\", 0.019089626939251134)\n",
            "('(', 0.0206183249319476)\n",
            "('but', 0.03146459021682417)\n",
            "('only', 0.04361094954618022)\n",
            "('upon', 0.05182991914988629)\n",
            "('second', 0.04021598050807049)\n",
            "= = = =\n",
            "(';', 0.03332292535874458)\n",
            "(')', 0.02408755608687575)\n",
            "('First', 0.04804156907088817)\n",
            "('of', 0.022761838007886778)\n",
            "('all', 0.020802275507682533)\n",
            "(',', 0.01873992499320006)\n",
            "('Mulholland', 0.025659699009622026)\n",
            "('Drive', 0.02403573529498949)\n",
            "('is', 0.034679262912019684)\n",
            "('downright', 0.14293331222959157)\n",
            "('brilliant', 0.22541042946975987)\n",
            "('.', 0.044743569212823874)\n",
            "= = = =\n",
            "('A', 0.07127040620415567)\n",
            "('masterpiece', 0.23109613641492793)\n",
            "('.', 0.05515695627922033)\n",
            "= = = =\n",
            "('This', 0.03411463319360626)\n",
            "('is', 0.03010529255236308)\n",
            "('the', 0.05157767809676319)\n",
            "('kind', 0.14176098224967537)\n",
            "('of', 0.06678069678934731)\n",
            "('movie', 0.05746241259682509)\n",
            "('that', 0.024934948531170113)\n",
            "('refuse', 0.022329180779187302)\n",
            "('to', 0.03819416993977446)\n",
            "('leave', 0.04674687186165426)\n",
            "('your', 0.03806066116488957)\n",
            "('head', 0.05225701391262348)\n",
            "('.', 0.030278553447734814)\n",
            "= = = =\n",
            "('Highway', 0.07579129302607625)\n",
            "('Lost', 0.061837694078922305)\n",
            "('you', 0.057911582338237184)\n",
            "('already', 0.05691951112531536)\n",
            "('sign', 0.0569164054513823)\n",
            "('There', 0.04639659355350277)\n",
            "(':', 0.04238595890791367)\n",
            "('knew', 0.04068181220478346)\n",
            "('you', 0.040513446017215994)\n",
            "('The', 0.037298886822673814)\n",
            "('says', 0.03542226496390039)\n",
            "('on', 0.034179010205441354)\n",
            "('but', 0.03020927494235406)\n",
            "(\"'s\", 0.026379010509545605)\n",
            "('a', 0.024483692021626823)\n",
            "('that', 0.023099268404780306)\n",
            "('?', 0.02272751114308613)\n",
            "(')', 0.022692958163960813)\n",
            "('SPOILERS', 0.022332298805883707)\n",
            "('OOV', 0.022269196950804235)\n",
            "(\"n't\", 0.022123093944858743)\n",
            "('that', 0.0214735821548947)\n",
            "(',', 0.020421295540045296)\n",
            "('OOV', 0.01957562531381369)\n",
            "('did', 0.019430402638362147)\n",
            "('(', 0.017571025785610286)\n",
            "= = = =\n",
            "('great', 0.10842920644762079)\n",
            "('like', 0.0826818810914749)\n",
            "('contribute', 0.054834984796779375)\n",
            "('Since', 0.052564913431073924)\n",
            "(\"'d\", 0.04965789944957526)\n",
            "('deal', 0.043757365885625094)\n",
            "('to', 0.043054722519610414)\n",
            "('my', 0.042401187206416176)\n",
            "('point', 0.03450269477159066)\n",
            "('movie', 0.03413472864424657)\n",
            "('interpretation', 0.03403798227710494)\n",
            "('there', 0.031086634379880698)\n",
            "('a', 0.03054205624728576)\n",
            "(\"'s\", 0.027865577344791545)\n",
            "('plot', 0.02744862922815877)\n",
            "('this', 0.02493876615656609)\n",
            "('I', 0.024881096627881797)\n",
            "('apparently', 0.024586769026358986)\n",
            "(',', 0.02357569426352381)\n",
            "('get', 0.02354702036896972)\n",
            "('of', 0.022523387407750273)\n",
            "('people', 0.021413864522569465)\n",
            "('of', 0.021039874332777236)\n",
            "('why', 0.019630315899355228)\n",
            "('of', 0.017746198998052964)\n",
            "('the', 0.01695011162464745)\n",
            "('not', 0.016787502607213862)\n",
            "('did', 0.016673378332256565)\n",
            "('that', 0.014750599200495729)\n",
            "('the', 0.013954956839275397)\n",
            "= = = =\n",
            "('not', 0.08989382490238969)\n",
            "('sufficient', 0.07405816337323111)\n",
            "('pointed', 0.06238977208203404)\n",
            "('As', 0.058701108507188994)\n",
            "('others', 0.050034522956333496)\n",
            "('movie', 0.04095645296207001)\n",
            "('is', 0.03863541285090896)\n",
            "('.', 0.034706223724422856)\n",
            "('out', 0.03354961969928136)\n",
            "('single', 0.032733961205953635)\n",
            "('have', 0.03259986651098887)\n",
            "('viewing', 0.03231645071507563)\n",
            "('this', 0.03044713546383089)\n",
            "('one', 0.024045865178744675)\n",
            "(',', 0.021967413814178213)\n",
            "('of', 0.021364062609655107)\n",
            "= = = =\n",
            "('you', 0.07580982946571674)\n",
            "('looking', 0.07365683941789851)\n",
            "('upon', 0.05182991914988629)\n",
            "('If', 0.048740833552709445)\n",
            "('have', 0.046924045755854134)\n",
            "('only', 0.04361094954618022)\n",
            "('second', 0.04021598050807049)\n",
            "(\"'Top\", 0.03992878486689523)\n",
            "('DVD', 0.036546977609376995)\n",
            "('the', 0.033618943764316886)\n",
            "('10', 0.03361012012053129)\n",
            "('but', 0.03146459021682417)\n",
            "('MD', 0.03026793918534031)\n",
            "('to', 0.029166844960759053)\n",
            "('of', 0.029151703358018536)\n",
            "('you', 0.028254034576181575)\n",
            "('by', 0.027561079803710302)\n",
            "('David', 0.026515951599769102)\n",
            "('OOV', 0.02608159958432512)\n",
            "('Lynch', 0.025519822269045887)\n",
            "(',', 0.02536444118514977)\n",
            "('at', 0.024300286679786523)\n",
            "(\"'s\", 0.023837328085296892)\n",
            "('can', 0.02315656859170137)\n",
            "('OOV', 0.022238591427130205)\n",
            "('MD', 0.02158165201548931)\n",
            "(\"'\", 0.020727631061988105)\n",
            "('(', 0.0206183249319476)\n",
            "('OOV', 0.02060875966485254)\n",
            "(\"'\", 0.019089626939251134)\n",
            "= = = =\n",
            "('brilliant', 0.22541042946975987)\n",
            "('downright', 0.14293331222959157)\n",
            "('First', 0.04804156907088817)\n",
            "('.', 0.044743569212823874)\n",
            "('is', 0.034679262912019684)\n",
            "(';', 0.03332292535874458)\n",
            "('Mulholland', 0.025659699009622026)\n",
            "(')', 0.02408755608687575)\n",
            "('Drive', 0.02403573529498949)\n",
            "('of', 0.022761838007886778)\n",
            "('all', 0.020802275507682533)\n",
            "(',', 0.01873992499320006)\n",
            "= = = =\n",
            "('masterpiece', 0.23109613641492793)\n",
            "('A', 0.07127040620415567)\n",
            "('.', 0.05515695627922033)\n",
            "= = = =\n",
            "('kind', 0.14176098224967537)\n",
            "('of', 0.06678069678934731)\n",
            "('movie', 0.05746241259682509)\n",
            "('head', 0.05225701391262348)\n",
            "('the', 0.05157767809676319)\n",
            "('leave', 0.04674687186165426)\n",
            "('to', 0.03819416993977446)\n",
            "('your', 0.03806066116488957)\n",
            "('This', 0.03411463319360626)\n",
            "('.', 0.030278553447734814)\n",
            "('is', 0.03010529255236308)\n",
            "('that', 0.024934948531170113)\n",
            "('refuse', 0.022329180779187302)\n",
            "= = = =\n"
          ]
        }
      ],
      "source": [
        "_, word_coeffs, _ = model(my_review_tensor) # fill the gap # get words attention coeffs by passing the review to the model - (you need to convert the inout torch tensor)\n",
        "\n",
        "word_coeffs_list = word_coeffs.reshape(7,30).tolist()\n",
        "\n",
        "# match text and coefficients:\n",
        "text_word_coeffs = [list(zip(words,word_coeffs_list[idx][:len(words)])) for idx,words in enumerate(my_review_text)]\n",
        "\n",
        "for sent in text_word_coeffs:\n",
        "    [print(elt) for elt in sent]\n",
        "    print('= = = =')\n",
        "\n",
        "# sort words by importance within each sentence:\n",
        "text_word_coeffs_sorted = [sorted(elt,key=operator.itemgetter(1),reverse=True) for elt in text_word_coeffs]\n",
        "\n",
        "for sent in text_word_coeffs_sorted:\n",
        "    [print(elt) for elt in sent]\n",
        "    print('= = = =')"
      ]
    },
    {
      "cell_type": "code",
      "execution_count": 51,
      "metadata": {},
      "outputs": [
        {
          "name": "stdout",
          "output_type": "stream",
          "text": [
            "Sentence attention: 21.2% -> May 2nd : someone clicked 11 OOV , and then proceeded to do 15 more on my previous 15 comments : almost as funny as this turkey !\n",
            "Sentence attention: 12.73% -> May 1st : As I write this , I 'm still very much under the impression of what must be the funniest thriller I 've ever seen .\n",
            "Sentence attention: 15.32% -> I 've got a major case of the giggles , but I 'll try and calm down .\n",
            "Sentence attention: 22.08% -> ( It 's kind of hard to write when your nose spills snot and the mouth OOV sporadic drool onto the keyboard . )\n",
            "Sentence attention: 8.31% -> A pair of young women who just returned from a vacation take a ride on a shuttle bus .\n",
            "Sentence attention: 10.0% -> A couple of young guys join them .\n",
            "Sentence attention: 10.36% -> But the bus is n't really a taxi service : it 's a kidnapping vehicle .\n"
          ]
        }
      ],
      "source": [
        "import matplotlib.pyplot as plt\n",
        "\n",
        "# Select the last review/document from the test set (as an example)\n",
        "my_review = my_docs_array_test[-4:,:,:]\n",
        "\n",
        "# Convert integer review to text:\n",
        "index_to_word[1] = 'OOV'  # Handle out-of-vocabulary words\n",
        "my_review_text = [[index_to_word[idx] for idx in sent if idx in index_to_word] for sent in my_review.tolist()[0]]\n",
        "\n",
        "# Convert the review to a tensor and move it to the device (GPU/CPU)\n",
        "my_review_tensor = torch.tensor(my_review, dtype=torch.long).to(device)\n",
        "\n",
        "# Get the sentence attention coefficients by passing the review through the model\n",
        "model.eval()  # Set the model to evaluation mode\n",
        "with torch.no_grad():\n",
        "    _, word_att_coeffs, sent_att_coeffs = model(my_review_tensor)\n",
        "\n",
        "# No need to convert to NumPy, we can keep using PyTorch tensors\n",
        "sent_att_coeffs = sent_att_coeffs[0]  # Shape: (num_sentences, 1)\n",
        "word_att_coeffs = word_att_coeffs[0]  # Shape: (num_sentences, num_words, 1)\n",
        "\n",
        "# Convert the attention coefficients to lists directly using .tolist()\n",
        "sent_att_coeffs = sent_att_coeffs.squeeze().tolist()  # Shape: (num_sentences,)\n",
        "word_att_coeffs = word_att_coeffs.squeeze().tolist()  # Shape: (num_sentences, num_words)\n",
        "\n",
        "# Print sentence-level attention scores\n",
        "for sent_coeff, sentence in zip(sent_att_coeffs, [' '.join(sent) for sent in my_review_text]):\n",
        "    print(f\"Sentence attention: {round(sent_coeff * 100, 2)}% -> {sentence}\")"
      ]
    },
    {
      "cell_type": "code",
      "execution_count": 52,
      "metadata": {},
      "outputs": [
        {
          "data": {
            "image/png": "[encoded data removed]",
            "text/plain": [
              "<Figure size 720x360 with 1 Axes>"
            ]
          },
          "metadata": {
            "needs_background": "light"
          },
          "output_type": "display_data"
        }
      ],
      "source": [
        "# Plot the sentence-level attention coefficients using Python lists\n",
        "def plot_sentence_attention(sent_coeffs, sentences):\n",
        "    plt.figure(figsize=(10, 5))\n",
        "    \n",
        "    # Convert PyTorch tensors to lists\n",
        "    y_pos = list(range(len(sentences)))  # Use standard Python range for y-axis\n",
        "    sent_coeffs_list = sent_coeffs.tolist()  # Convert attention coefficients to list\n",
        "    \n",
        "    # Use lists directly in plt.barh\n",
        "    plt.barh(y_pos, sent_coeffs_list, align='center', alpha=0.7)\n",
        "    \n",
        "    # Set the labels for the y-axis using the sentences\n",
        "    plt.yticks(y_pos, sentences, fontsize=10)\n",
        "    plt.xlabel('Attention Coefficient')\n",
        "    plt.title('Sentence-Level Attention')\n",
        "    \n",
        "    # Reverse the order to show the first sentence at the top\n",
        "    plt.gca().invert_yaxis()\n",
        "    plt.show()\n",
        "\n",
        "# Prepare the sentence attention and sentence text\n",
        "sentences = [' '.join(sent) for sent in my_review_text]\n",
        "\n",
        "# Plot sentence-level attention (convert tensors to lists)\n",
        "plot_sentence_attention(torch.tensor(sent_att_coeffs), sentences)"
      ]
    },
    {
      "cell_type": "markdown",
      "metadata": {
        "id": "C9JblVhaHlsu"
      },
      "source": []
    }
  ],
  "metadata": {
    "accelerator": "GPU",
    "colab": {
      "collapsed_sections": [],
      "provenance": []
    },
    "kernelspec": {
      "display_name": "Python 3",
      "language": "python",
      "name": "python3"
    },
    "language_info": {
      "codemirror_mode": {
        "name": "ipython",
        "version": 3
      },
      "file_extension": ".py",
      "mimetype": "text/x-python",
      "name": "python",
      "nbconvert_exporter": "python",
      "pygments_lexer": "ipython3",
      "version": "3.10.5"
    }
  },
  "nbformat": 4,
  "nbformat_minor": 0
}
